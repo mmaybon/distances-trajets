{
 "cells": [
  {
   "cell_type": "code",
   "metadata": {},
   "source": [
    "# -*- coding: utf-8 -*-\n",
    "import csv, json, time, urllib.parse, urllib.request\n",
    "from urllib.error import HTTPError\n",
    "GEO_THROTTLE=0.1; OSRM_THROTTLE=0.2\n",
    "GEOCODE_CACHE={}; _last=0.0\n",
    "def throttle(sec):\n",
    "    global _last\n",
    "    dt=time.time()-_last\n",
    "    if dt<sec: time.sleep(sec-dt)\n",
    "    _last=time.time()\n",
    "def fetch_json(url, timeout=30):\n",
    "    try:\n",
    "        with urllib.request.urlopen(url, timeout=timeout) as r:\n",
    "            return json.load(r)\n",
    "    except Exception as e:\n",
    "        print(f\"[warn] {e}: {url}\")\n",
    "        return None\n",
    "def geocode_gouv(addr):\n",
    "    if addr in GEOCODE_CACHE: return GEOCODE_CACHE[addr]\n",
    "    throttle(GEO_THROTTLE)\n",
    "    q=urllib.parse.urlencode({'q':addr,'limit':1})\n",
    "    url=f\"https://api-adresse.data.gouv.fr/search/?{q}\"\n",
    "    data=fetch_json(url)\n",
    "    if data and data.get('features'):\n",
    "        lon,lat=data['features'][0]['geometry']['coordinates']\n",
    "        GEOCODE_CACHE[addr]=(lat,lon)\n",
    "        return lat,lon\n",
    "    GEOCODE_CACHE[addr]=(None,None)\n",
    "    return None,None\n",
    "def route_distance_osrm(a_lat,a_lon,b_lat,b_lon):\n",
    "    throttle(OSRM_THROTTLE)\n",
    "    coords=f\"{a_lon},{a_lat};{b_lon},{b_lat}\"\n",
    "    url=f\"https://router.project-osrm.org/route/v1/driving/{coords}?overview=false\"\n",
    "    data=fetch_json(url)\n",
    "    if data and data.get('routes'):\n",
    "        return round(data['routes'][0]['distance']/1000,2)\n",
    "    return None\n"
   ]
  },
  {
   "cell_type": "code",
   "metadata": {},
   "source": [
    "from google.colab import files\n",
    "uploaded = files.upload()\n",
    "csv_file = next(iter(uploaded.keys()))\n",
    "print('Fichier reçu :', csv_file)\n"
   ]
  },
  {
   "cell_type": "code",
   "metadata": {},
   "source": [
    "rows = list(csv.DictReader(open(csv_file, encoding='utf-8-sig')))\n",
    "out = csv_file.replace('.csv','_with_coords.csv')\n",
    "w = csv.DictWriter(open(out,'w',encoding='utf-8',newline=''),\n",
    "                    fieldnames=list(rows[0].keys())+['Lat départ','Lon départ','Lat destination','Lon destination','Distance_km'])\n",
    "w.writeheader()\n",
    "total=len(rows)\n",
    "for i,row in enumerate(rows,1):\n",
    "    print(f'Processing {i}/{total} ID={row.get(\"Id\",\"?\")}')\n",
    "    lat1,lon1=geocode_gouv(row['Adresse départ'])\n",
    "    lat2,lon2=geocode_gouv(row['Adresse destination'])\n",
    "    row['Lat départ'],row['Lon départ']=lat1 or '',lon1 or ''\n",
    "    row['Lat destination'],row['Lon destination']=lat2 or '',lon2 or ''\n",
    "    if lat1 and lon1 and lat2 and lon2:\n",
    "        row['Distance_km']=route_distance_osrm(lat1,lon1,lat2,lon2) or ''\n",
    "    else:\n",
    "        row['Distance_km']=''\n",
    "    w.writerow(row)\n",
    "print('Done :', out)\n"
   ]
  },
  {
   "cell_type": "code",
   "metadata": {},
   "source": [
    "files.download(out)\n"
   ]
  }
 ],
 "metadata": {
  "kernelspec": {"display_name": "Python 3", "language": "python", "name": "python3"},
  "language_info": {"name": "python"}
 },
 "nbformat": 4,
 "nbformat_minor": 0
}
